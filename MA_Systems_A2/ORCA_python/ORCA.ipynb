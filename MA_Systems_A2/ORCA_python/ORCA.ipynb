{
 "cells": [
  {
   "cell_type": "code",
   "execution_count": 1,
   "metadata": {
    "collapsed": true
   },
   "outputs": [],
   "source": [
    "import numpy as np\n",
    "import random as rnd\n",
    "import matplotlib.pyplot as plt\n",
    "import math\n",
    "import copy\n",
    "import quadprog\n",
    "from matplotlib import animation\n",
    "plt.rc('animation', html='html5')"
   ]
  },
  {
   "cell_type": "markdown",
   "metadata": {},
   "source": [
    "#### Initialization"
   ]
  },
  {
   "cell_type": "code",
   "execution_count": 110,
   "metadata": {
    "collapsed": true
   },
   "outputs": [],
   "source": [
    "dt = 0.1\n",
    "agent1 = { \"position\": np.array([0.0,0.0]),\n",
    "          \"p_goal\": np.array([20.0, 0.1]),\n",
    "          \"vel\": np.array([1.1,0.0]),\n",
    "          \"radius\": 0.5,\n",
    "          \"v_max\": 1.1\n",
    "    }\n",
    "agent2 = { \"position\": np.array([20.0,0.0]),\n",
    "          \"p_goal\": np.array([0.0,-0.1]),\n",
    "          \"vel\": np.array([-1.1,0.0]),\n",
    "          \"radius\": 0.5,\n",
    "          \"v_max\": 1.1\n",
    "    }"
   ]
  },
  {
   "cell_type": "markdown",
   "metadata": {},
   "source": [
    "#### Animation"
   ]
  },
  {
   "cell_type": "code",
   "execution_count": 111,
   "metadata": {
    "scrolled": true
   },
   "outputs": [
    {
     "name": "stderr",
     "output_type": "stream",
     "text": [
      "C:\\Users\\d1mas\\Anaconda3\\lib\\site-packages\\ipykernel_launcher.py:38: RuntimeWarning: divide by zero encountered in double_scalars\n",
      "C:\\Users\\d1mas\\Anaconda3\\lib\\site-packages\\ipykernel_launcher.py:38: RuntimeWarning: invalid value encountered in multiply\n",
      "C:\\Users\\d1mas\\Anaconda3\\lib\\site-packages\\ipykernel_launcher.py:29: RuntimeWarning: divide by zero encountered in double_scalars\n",
      "C:\\Users\\d1mas\\Anaconda3\\lib\\site-packages\\ipykernel_launcher.py:29: RuntimeWarning: invalid value encountered in multiply\n",
      "C:\\Users\\d1mas\\Anaconda3\\lib\\site-packages\\ipykernel_launcher.py:20: RuntimeWarning: divide by zero encountered in double_scalars\n",
      "C:\\Users\\d1mas\\Anaconda3\\lib\\site-packages\\ipykernel_launcher.py:20: RuntimeWarning: invalid value encountered in multiply\n",
      "C:\\Users\\d1mas\\Anaconda3\\lib\\site-packages\\ipykernel_launcher.py:47: RuntimeWarning: divide by zero encountered in double_scalars\n",
      "C:\\Users\\d1mas\\Anaconda3\\lib\\site-packages\\ipykernel_launcher.py:47: RuntimeWarning: invalid value encountered in multiply\n"
     ]
    },
    {
     "data": {
      "text/html": [
       "<video width=\"792\" height=\"144\" controls autoplay loop>\n",
       "  <source type=\"video/mp4\" src=\"data:video/mp4;base64,AAAAHGZ0eXBNNFYgAAACAGlzb21pc28yYXZjMQAAAAhmcmVlAAAeEm1kYXQAAAKuBgX//6rcRem9\n",
       "5tlIt5Ys2CDZI+7veDI2NCAtIGNvcmUgMTU1IHIyOTAxIDdkMGZmMjIgLSBILjI2NC9NUEVHLTQg\n",
       "QVZDIGNvZGVjIC0gQ29weWxlZnQgMjAwMy0yMDE4IC0gaHR0cDovL3d3dy52aWRlb2xhbi5vcmcv\n",
       "eDI2NC5odG1sIC0gb3B0aW9uczogY2FiYWM9MSByZWY9MyBkZWJsb2NrPTE6MDowIGFuYWx5c2U9\n",
       "MHgzOjB4MTEzIG1lPWhleCBzdWJtZT03IHBzeT0xIHBzeV9yZD0xLjAwOjAuMDAgbWl4ZWRfcmVm\n",
       "PTEgbWVfcmFuZ2U9MTYgY2hyb21hX21lPTEgdHJlbGxpcz0xIDh4OGRjdD0xIGNxbT0wIGRlYWR6\n",
       "b25lPTIxLDExIGZhc3RfcHNraXA9MSBjaHJvbWFfcXBfb2Zmc2V0PS0yIHRocmVhZHM9MyBsb29r\n",
       "YWhlYWRfdGhyZWFkcz0xIHNsaWNlZF90aHJlYWRzPTAgbnI9MCBkZWNpbWF0ZT0xIGludGVybGFj\n",
       "ZWQ9MCBibHVyYXlfY29tcGF0PTAgY29uc3RyYWluZWRfaW50cmE9MCBiZnJhbWVzPTMgYl9weXJh\n",
       "bWlkPTIgYl9hZGFwdD0xIGJfYmlhcz0wIGRpcmVjdD0xIHdlaWdodGI9MSBvcGVuX2dvcD0wIHdl\n",
       "aWdodHA9MiBrZXlpbnQ9MjUwIGtleWludF9taW49MjAgc2NlbmVjdXQ9NDAgaW50cmFfcmVmcmVz\n",
       "aD0wIHJjX2xvb2thaGVhZD00MCByYz1jcmYgbWJ0cmVlPTEgY3JmPTIzLjAgcWNvbXA9MC42MCBx\n",
       "cG1pbj0wIHFwbWF4PTY5IHFwc3RlcD00IGlwX3JhdGlvPTEuNDAgYXE9MToxLjAwAIAAAAuBZYiE\n",
       "AD///vdonwKbWkN6gOSVxSXTP/EHmlcYCi5yaNWLzIeasa91ngsbzffpRWMF1z4LR5rcvv+Wfves\n",
       "/Ti2eHu3fIAAAAMAAAMAAYGcQ+fjOVQYSJgBdOW1U4yKRuerEMW1b0+xYXDV4cLI0Wk2yTh0S8yI\n",
       "yo9qJLB5lkjcR9SKOw4k9smIPXX5Csen+mxxjcyW739r+gQb7patNGlTlhJePQcHMAAAAwAACvY6\n",
       "rNQqBbyJkETHBvddRPViiTyV3t2wHyj6evmPDM5OW8KpEMvunzUuwKgkGLt5zW7DbSEu52NCUGQh\n",
       "ibROZGktSoRSJuywC0OBOvASDBgAAEcJQVmfO7V5fsfeyZWDI+5dRlOpJp67obZk2MRuItCkDWvh\n",
       "3FIAdZxST4LlRqeidaOxDPEAb76Fd6oFJFh645ftQ8meshxGwFYeB3dM0N21sriYrO2mZ0Vz5j0U\n",
       "5sJ91aMmEe4jgAAX1XoEjOy/1kddfrH6zzwWBkFgc4EB6TzQj1cq6fsNWRG0v4aJqPH5+G5zxcyj\n",
       "6+xqBXyyulrOwKtJswsf84m7L0XgXFvtcYYndP2CU8V//n4XjzlBTsiOWTLXH9+oNFEYfKtx3Os3\n",
       "k6IeLJy7GeQGQd2k1y4iS1B29YFPRa0fB5+WLWmo5/WTuffxXAilBhFIvuFzzUZgMnHLodpP/N/6\n",
       "KqgrqfZP1xO3Ltb3U+tN4VONWmE1kiQPzMQLyIoYp4butBoIVF0aqKz3gh0j02U4f59wy+I01+cV\n",
       "OE3iEr5j3O6s6pNhKWNp/syy2ZEj36GwYT0ndSrUcrQ/SRSV880CNTaU47JnLxD24mgjBsXkyTSW\n",
       "7YFDoYXit5AIn9zjAwFsZHTYUhxrVv/v9SngVYkr+OliceUFA/0gCFg1QLz85Z4xh9I4Cp9iPCp5\n",
       "nyMBpJL9JflWd8bFvY/ONtPzBkU5PAuh94lCpBieuUX0s54zH5XT2vfpAB4BWxQNi/z/AAKjfoXy\n",
       "YyWiuV/w+2fV2kKsWuQ1t1uQg5/g3xu2l/iW/IXNE5VfWOh7Rxn3jHeWCUxg934/8BRLivQLYRFB\n",
       "w0RwYXIbO2dakUHPmi9f+5f4RldL8pGlrsrPbd+2jCX1GKQ3DVzlbvz+FZpux9opD5eLx0sZi3d5\n",
       "/lsSP0qR3dI3P9a/TsV3v4ps6QOt2sdLsr4SAllcxR1G1nxogzx8YHTJ+Pv5cVrxFs+Ita2GGcir\n",
       "qmj51sB/sJEb7g4Ont4ITjRb1fGT8Lzrs2v+wdlNMHNmRD4VOLO1GjU8vxg/moIEoFNQ5OkDQAhp\n",
       "q0nnZQrvdz3FOWxLpNHC0Qxd7Q2NsMAxo49rKzNBh8SWwtasxOGW9fukRpauXqL99fEHTIgU/hPA\n",
       "YvTF9MpvXsfXOE0iBx3RvZSA2LAFpbZgUkp4KBwtXGDsCzjAA4C37/WhHDZpj4SI0geLlUWQY2cY\n",
       "X62W8mhBLA3mKiFQY4tJdwgg1pP/QMDmKphPT6BOVG+LE0uIU83pRTw/+1ZqpAc/t0kRtdQrm5Yn\n",
       "XmICpK9LYrOadrOK7HKdjSyVzyfBTYy4QoTEkuyJIxS+MdOEHnkOzu9LshFMDfQzwSamCYakA+9F\n",
       "F1eDsB5NN3AeOIoYZTvAIG2fAt8ahoHhNOz3fVKiC06uBgTIsaOTxtoxn46Bz+Cba/kDWM+tXQqG\n",
       "7O3/BBnFAGN1Z2uO+ZpQ9hH7AjaeKOspxXZ2oGj8HeDb2TfMDavS0/XNTnCBtetDp4GwCNuOp2rR\n",
       "+n1T0rap3bvhghbsVd94/TZfWMf40LakzM0GQv9oPpIKyACMagchqTPK3kyP98TOMdluYjTp/gUo\n",
       "dri9WGfxEyMkbE/uv/RlAeDps3ag/IWAzkaEVL96pxeIwTh4RGbIAsLBGElOe7EfI1DYf/aUS4JB\n",
       "V6Sbv86JePSdFsUdmoZt7cEieQOmB1DZShrNnqc+uzI+tiPmQXXqcjOLsYFM/aiaxN6tQ3JffaCE\n",
       "XmidxoCmpttWVBJJJwxxRNr5j2CHn4OHfY3jlJXcIQPilNQAA31N/x+5tCr/gx6eX7Gnp7I5V8BB\n",
       "XJFrhc80bmwlxuM5wdn/fj3GS2Z4ZnjHhYTJvS7RY/cgFOR+WGwdABQNV+SP6JlrFZFPNqmUrp9+\n",
       "kSL8mD9l3IvJAAYneZX75pAt1aXO9aRI8RZWGzRUS3dN/RozOZWvIWzCmCO3AtfY/oMb9WUCPMxo\n",
       "lWSdvXQP+aDuTbOwcxwWc2FxTLZmku3/WskA5JhK7DKydRlVfXixE4LUWG0n4Puq1RKeDGla4g/f\n",
       "VGA9EjjMl2h2YCTyrQf753VUrvcao8rda3PN+2HQg3aGwVpdt55SEn4EzjrfeJM3QK4ukjWkc1lM\n",
       "aYSaUQRfixLQ0mrBFG9W2XrJQBFyoZi/QcWzbiJi7Rj03vImFuqxHEt1KMAD5Lkc1l8JsDrv0ucI\n",
       "S3k5Xw0WJkOOesVXxWotMbqD1GmdYWTWzlZYeS6lySd2k/5lOso1rvFXdYUrGi4qQtHfuqnFTnXq\n",
       "EN8MCoR/jAGbrd9/lqrYzmxCZAFy197q6T+skaIlFgl0ZiSDA8+akUm6xg/sVPcmACq64nRk3lQi\n",
       "RZFQ2yXYH69UQbXdqPRz6Pt+ANtkJwSmATF4xrkqmZ7Kw0X2WNomX8I1ml75PPjoCaWB0oaYUvtQ\n",
       "yqI07GB2qJmuy3+XOEY3pR1FxifZXA53YCa0UrUAiE7c+AgmO5OPirAAPMK9AWnRMQ834xWvA028\n",
       "5icN07Xu+jsIZnS9019lTkqMITfV3H6YKX1BWIcbNQ+gYxXEI2h3/xcZH3rBbXeYrMVjrbT3wvjs\n",
       "/UDiMhnxvglnl+kYb7qV4eNM0o++aSl40R/Brx9iqnZ+yiJUqrf5JpBQalvY7/Oi69dpg17bkUmK\n",
       "2e5LCQkeWGpOtANG2gB8Ad7eVI0sgL6CbVI3/jCtu43+W+7gHIVvL4FXfK8jCCs+DRVloMMXoACK\n",
       "MuMdzc0X8dHGSzN1A3cpp5acEcGQeBQj9exCXuRQIOZYd9cdtSdoBML+CChmHsD86ozGYveWnctR\n",
       "v3A/h4HZAztxNnARs/hnghBpZf1M8/AIb7U1z9aFjVjHmb/cSOdLrgEtco/wNdToKE+Hz/m1Rp1m\n",
       "zcON++9J3suyqDTWzqgolqVwcTb0mQ0BtLc0TZEaitgGK0Pq/LVL+yxONcqu2KQcoOGOacZgYYEb\n",
       "6OXQxMItH6oFG1BHFxJHu/lqhDN7Y/+rhLHYfgWY+0V6ZAH1VDFjLIi3x6iQvDTGzqkq7JTbEcFB\n",
       "47yU6CqNYPkdA83k/1xJXYia7ehsqSTI9z4ptgAPUd2p2Re7V7WyrJ4kog+mS6jk9vk0NIUDwwkY\n",
       "lNcWl8Pt/U04cL/Iiit6Kja1heKKIXC5XSkI7tJtwp9yjVBWvCH1eFV+cF6BI5dOnigT2AxyVH3o\n",
       "PUc3zYpx/ziZ94LthfpU0Xeert+zlByr4YkbEL+V4zJem5azVbqwCqaYuQeouKnf/edYy5YECUps\n",
       "F+dlDHgUpVxD1Hpkp/xzCKfcxzbWUk9wy4JS6Hr48sJD1zdKP8t5A4mo0CxI8BTSO4A4ognR+fgo\n",
       "g8o2IfnRVqVktc6vW9ssxoRTx5Te71voNGts3Fi3Eqe536qEyQXiDPY90+uT/xKU6AmxTXRAbatL\n",
       "4/6Nl1NltmiPCmv0Oh/pxxQ19OwJRwP5MHuY+pUhGBDuCVwuTfVTNAMoKInwLpmTPwUVJj4cfpf4\n",
       "cmISgtYKq7tLJFMuiKaCrzYVdeLycWqqn88RFS4eMs1diO44rNK+MjCzN/wJTS8eiCgNm1gX0LPq\n",
       "1yLfGjACu7QhcjTziYpx6EbLZDFePUbqbyXv33/5nxzGiGtH8ZFYxHgTfBtyoLPv9ZvZOxr++xUm\n",
       "5jQ6XY3o2cmDECQbGyJrRwIwwT8W8UZVzpkjfrdIGFcSAZ8AAACkQZokbEP//qmWARRj0aAG/JSF\n",
       "jF41v4mG/svzk88PP/xFExyzkRktwL+EnLvo4+gZxAnVK6J5BG99zWgUD26FjBIOAl/5dPLRufs2\n",
       "U8EOwBvg5FEM7A0PFBJAbTF658WyRblKI2x3UHNYgrTN60g7WaZdyT3JZViPeeDrUVe/0qVy1Hqw\n",
       "1Mq+rnp4xFWP5obDtoZodLFqCZwWEokEHs5QmvFWb3gAAAApQZ5CeIZ/AMj8U+eDgAWmZ3L9N5dg\n",
       "tE0SZFZCrwpC2kDKHZC5iSZf44EAAAAZAZ5hdEK/AXWLw4MnCUtXmfEYoSoWgIKfuwAAABIBnmNq\n",
       "Qr8AZx0oPe29qe8AU/0AAAAoQZpoSahBaJlMCH///qmWAD6IdStAIJRqhiX46f+wVlXAdUi+NL59\n",
       "lQAAABNBnoZFESwz/wA3PxXdXttnms5lAAAADwGepXRCvwBm/6Xa15EIIQAAAA0BnqdqQr8AB22U\n",
       "Tu9AAAAAHkGarEmoQWyZTAh///6plgAEoWiXgCPi3O54bhRbQAAAAA9BnspFFSwz/wAD98gsP8EA\n",
       "AAANAZ7pdEK/AAdrgE7vQAAAAAsBnutqQr8AAAMD0gAAABRBmvBJqEFsmUwIf//+qZYAAAMCZwAA\n",
       "AA9Bnw5FFSwz/wAD4sEsabkAAAALAZ8tdEK/AAADA9MAAAALAZ8vakK/AAADA9IAAAAUQZs0SahB\n",
       "bJlMCH///qmWAAADAmYAAAAPQZ9SRRUsM/8AA+LBLGm5AAAACwGfcXRCvwAAAwPSAAAACwGfc2pC\n",
       "vwAAAwPSAAAAFEGbeEmoQWyZTAh///6plgAAAwJnAAAAD0GflkUVLDP/AAPiwSxpuAAAAAsBn7V0\n",
       "Qr8AAAMD0wAAAAsBn7dqQr8AAAMD0wAAABRBm7xJqEFsmUwIf//+qZYAAAMCZgAAAA9Bn9pFFSwz\n",
       "/wAD4sEsabkAAAALAZ/5dEK/AAADA9IAAAALAZ/7akK/AAADA9MAAAAUQZvgSahBbJlMCH///qmW\n",
       "AAADAmcAAAAPQZ4eRRUsM/8AA+LBLGm4AAAACwGePXRCvwAAAwPSAAAACwGeP2pCvwAAAwPTAAAA\n",
       "FEGaJEmoQWyZTAh///6plgAAAwJmAAAAD0GeQkUVLDP/AAPiwSxpuQAAAAsBnmF0Qr8AAAMD0gAA\n",
       "AAsBnmNqQr8AAAMD0wAAABRBmmhJqEFsmUwIf//+qZYAAAMCZwAAAA9BnoZFFSwz/wAD4sEsabkA\n",
       "AAALAZ6ldEK/AAADA9MAAAALAZ6nakK/AAADA9IAAAAUQZqsSahBbJlMCH///qmWAAADAmYAAAAP\n",
       "QZ7KRRUsM/8AA+LBLGm5AAAACwGe6XRCvwAAAwPSAAAACwGe62pCvwAAAwPSAAAAFEGa8EmoQWyZ\n",
       "TAh///6plgAAAwJnAAAAD0GfDkUVLDP/AAPiwSxpuQAAAAsBny10Qr8AAAMD0wAAAAsBny9qQr8A\n",
       "AAMD0gAAABRBmzRJqEFsmUwIf//+qZYAAAMCZgAAAA9Bn1JFFSwz/wAD4sEsabkAAAALAZ9xdEK/\n",
       "AAADA9IAAAALAZ9zakK/AAADA9IAAAAUQZt4SahBbJlMCH///qmWAAADAmcAAAAPQZ+WRRUsM/8A\n",
       "A+LBLGm4AAAACwGftXRCvwAAAwPTAAAACwGft2pCvwAAAwPTAAAAFEGbvEmoQWyZTAh///6plgAA\n",
       "AwJmAAAAD0Gf2kUVLDP/AAPiwSxpuQAAAAsBn/l0Qr8AAAMD0gAAAAsBn/tqQr8AAAMD0wAAABRB\n",
       "m+BJqEFsmUwIf//+qZYAAAMCZwAAAA9Bnh5FFSwz/wAD4sEsabgAAAALAZ49dEK/AAADA9IAAAAL\n",
       "AZ4/akK/AAADA9MAAAAUQZokSahBbJlMCH///qmWAAADAmYAAAAPQZ5CRRUsM/8AA+LBLGm5AAAA\n",
       "CwGeYXRCvwAAAwPSAAAACwGeY2pCvwAAAwPTAAAAFEGaaEmoQWyZTAh///6plgAAAwJnAAAAD0Ge\n",
       "hkUVLDP/AAPiwSxpuQAAAAsBnqV0Qr8AAAMD0wAAAAsBnqdqQr8AAAMD0gAAABRBmqxJqEFsmUwI\n",
       "f//+qZYAAAMCZgAAAA9BnspFFSwz/wAD4sEsabkAAAALAZ7pdEK/AAADA9IAAAALAZ7rakK/AAAD\n",
       "A9IAAAAUQZrwSahBbJlMCH///qmWAAADAmcAAAAPQZ8ORRUsM/8AA+LBLGm5AAAACwGfLXRCvwAA\n",
       "AwPTAAAACwGfL2pCvwAAAwPSAAAAFEGbNEmoQWyZTAh///6plgAAAwJmAAAAD0GfUkUVLDP/AAPi\n",
       "wSxpuQAAAAsBn3F0Qr8AAAMD0gAAAAsBn3NqQr8AAAMD0gAAABRBm3hJqEFsmUwIf//+qZYAAAMC\n",
       "ZwAAAA9Bn5ZFFSwz/wAD4sEsabgAAAALAZ+1dEK/AAADA9MAAAALAZ+3akK/AAADA9MAAAAUQZu8\n",
       "SahBbJlMCH///qmWAAADAmYAAAAPQZ/aRRUsM/8AA+LBLGm5AAAACwGf+XRCvwAAAwPSAAAACwGf\n",
       "+2pCvwAAAwPTAAAAFEGb4EmoQWyZTAh///6plgAAAwJnAAAAD0GeHkUVLDP/AAPiwSxpuAAAAAsB\n",
       "nj10Qr8AAAMD0gAAAAsBnj9qQr8AAAMD0wAAABRBmiRJqEFsmUwIf//+qZYAAAMCZgAAAA9BnkJF\n",
       "FSwz/wAD4sEsabkAAAALAZ5hdEK/AAADA9IAAAALAZ5jakK/AAADA9MAAAAUQZpoSahBbJlMCH//\n",
       "/qmWAAADAmcAAAAPQZ6GRRUsM/8AA+LBLGm5AAAACwGepXRCvwAAAwPTAAAACwGep2pCvwAAAwPS\n",
       "AAAAFEGarEmoQWyZTAh///6plgAAAwJmAAAAD0GeykUVLDP/AAPiwSxpuQAAAAsBnul0Qr8AAAMD\n",
       "0gAAAAsBnutqQr8AAAMD0gAAABRBmvBJqEFsmUwIf//+qZYAAAMCZwAAAA9Bnw5FFSwz/wAD4sEs\n",
       "abkAAAALAZ8tdEK/AAADA9MAAAALAZ8vakK/AAADA9IAAAAUQZs0SahBbJlMCH///qmWAAADAmYA\n",
       "AAAPQZ9SRRUsM/8AA+LBLGm5AAAACwGfcXRCvwAAAwPSAAAACwGfc2pCvwAAAwPSAAAAFEGbeEmo\n",
       "QWyZTAh///6plgAAAwJnAAAAD0GflkUVLDP/AAPiwSxpuAAAAAsBn7V0Qr8AAAMD0wAAAAsBn7dq\n",
       "Qr8AAAMD0wAAABRBm7xJqEFsmUwIf//+qZYAAAMCZgAAAA9Bn9pFFSwz/wAD4sEsabkAAAALAZ/5\n",
       "dEK/AAADA9IAAAALAZ/7akK/AAADA9MAAAAUQZvgSahBbJlMCH///qmWAAADAmcAAAAPQZ4eRRUs\n",
       "M/8AA+LBLGm4AAAACwGePXRCvwAAAwPSAAAACwGeP2pCvwAAAwPTAAAAFEGaJEmoQWyZTAh///6p\n",
       "lgAAAwJmAAAAD0GeQkUVLDP/AAPiwSxpuQAAAAsBnmF0Qr8AAAMD0gAAAAsBnmNqQr8AAAMD0wAA\n",
       "ABRBmmhJqEFsmUwIf//+qZYAAAMCZwAAAA9BnoZFFSwz/wAD4sEsabkAAAALAZ6ldEK/AAADA9MA\n",
       "AAALAZ6nakK/AAADA9IAAAAUQZqsSahBbJlMCH///qmWAAADAmYAAAAPQZ7KRRUsM/8AA+LBLGm5\n",
       "AAAACwGe6XRCvwAAAwPSAAAACwGe62pCvwAAAwPSAAAAFEGa8EmoQWyZTAh///6plgAAAwJnAAAA\n",
       "D0GfDkUVLDP/AAPiwSxpuQAAAAsBny10Qr8AAAMD0wAAAAsBny9qQr8AAAMD0gAAABRBmzRJqEFs\n",
       "mUwIf//+qZYAAAMCZgAAAA9Bn1JFFSwz/wAD4sEsabkAAAALAZ9xdEK/AAADA9IAAAALAZ9zakK/\n",
       "AAADA9IAAAAUQZt4SahBbJlMCH///qmWAAADAmcAAAAPQZ+WRRUsM/8AA+LBLGm4AAAACwGftXRC\n",
       "vwAAAwPTAAAACwGft2pCvwAAAwPTAAAAFEGbvEmoQWyZTAh///6plgAAAwJmAAAAD0Gf2kUVLDP/\n",
       "AAPiwSxpuQAAAAsBn/l0Qr8AAAMD0gAAAAsBn/tqQr8AAAMD0wAAABRBm+BJqEFsmUwIf//+qZYA\n",
       "AAMCZwAAAA9Bnh5FFSwz/wAD4sEsabgAAAALAZ49dEK/AAADA9IAAAALAZ4/akK/AAADA9MAAAAU\n",
       "QZokSahBbJlMCH///qmWAAADAmYAAAAPQZ5CRRUsM/8AA+LBLGm5AAAACwGeYXRCvwAAAwPSAAAA\n",
       "CwGeY2pCvwAAAwPTAAAAFEGaaEmoQWyZTAh///6plgAAAwJnAAAAD0GehkUVLDP/AAPiwSxpuQAA\n",
       "AAsBnqV0Qr8AAAMD0wAAAAsBnqdqQr8AAAMD0gAAABRBmqxJqEFsmUwIf//+qZYAAAMCZgAAAA9B\n",
       "nspFFSwz/wAD4sEsabkAAAALAZ7pdEK/AAADA9IAAAALAZ7rakK/AAADA9IAAAAUQZrwSahBbJlM\n",
       "CH///qmWAAADAmcAAAAPQZ8ORRUsM/8AA+LBLGm5AAAACwGfLXRCvwAAAwPTAAAACwGfL2pCvwAA\n",
       "AwPSAAAAFEGbNEmoQWyZTAh///6plgAAAwJmAAAAD0GfUkUVLDP/AAPiwSxpuQAAAAsBn3F0Qr8A\n",
       "AAMD0gAAAAsBn3NqQr8AAAMD0gAAABRBm3hJqEFsmUwIf//+qZYAAAMCZwAAAA9Bn5ZFFSwz/wAD\n",
       "4sEsabgAAAALAZ+1dEK/AAADA9MAAAALAZ+3akK/AAADA9MAAAAUQZu8SahBbJlMCH///qmWAAAD\n",
       "AmYAAAAPQZ/aRRUsM/8AA+LBLGm5AAAACwGf+XRCvwAAAwPSAAAACwGf+2pCvwAAAwPTAAAAFEGb\n",
       "4EmoQWyZTAh///6plgAAAwJnAAAAD0GeHkUVLDP/AAPiwSxpuAAAAAsBnj10Qr8AAAMD0gAAAAsB\n",
       "nj9qQr8AAAMD0wAAABRBmiRJqEFsmUwId//+qZYAAAMCZgAAAA9BnkJFFSwz/wAD4sEsabkAAAAL\n",
       "AZ5hdEK/AAADA9IAAAALAZ5jakK/AAADA9MAAAAUQZpoSahBbJlMCHf//qmWAAADAmcAAAAPQZ6G\n",
       "RRUsM/8AA+LBLGm5AAAACwGepXRCvwAAAwPTAAAACwGep2pCvwAAAwPSAAAAFEGarEmoQWyZTAh3\n",
       "//6plgAAAwJmAAAAD0GeykUVLDP/AAPiwSxpuQAAAAsBnul0Qr8AAAMD0gAAAAsBnutqQr8AAAMD\n",
       "0gAAABNBmvBJqEFsmUwIZ//+nhAAABJxAAAAD0GfDkUVLDP/AAPiwSxpuQAAAAsBny10Qr8AAAMD\n",
       "0wAAAAsBny9qQr8AAAMD0gAAABNBmzFJqEFsmUwIV//+OEAAAEfAAAANB21vb3YAAABsbXZoZAAA\n",
       "AAAAAAAAAAAAAAAAA+gAACkEAAEAAAEAAAAAAAAAAAAAAAABAAAAAAAAAAAAAAAAAAAAAQAAAAAA\n",
       "AAAAAAAAAAAAQAAAAAAAAAAAAAAAAAAAAAAAAAAAAAAAAAAAAAAAAAIAAAwxdHJhawAAAFx0a2hk\n",
       "AAAAAwAAAAAAAAAAAAAAAQAAAAAAACkEAAAAAAAAAAAAAAAAAAAAAAABAAAAAAAAAAAAAAAAAAAA\n",
       "AQAAAAAAAAAAAAAAAAAAQAAAAAMYAAAAkAAAAAAAJGVkdHMAAAAcZWxzdAAAAAAAAAABAAApBAAA\n",
       "BAAAAQAAAAALqW1kaWEAAAAgbWRoZAAAAAAAAAAAAAAAAAAAKAAAAaQAVcQAAAAAAC1oZGxyAAAA\n",
       "AAAAAAB2aWRlAAAAAAAAAAAAAAAAVmlkZW9IYW5kbGVyAAAAC1RtaW5mAAAAFHZtaGQAAAABAAAA\n",
       "AAAAAAAAAAAkZGluZgAAABxkcmVmAAAAAAAAAAEAAAAMdXJsIAAAAAEAAAsUc3RibAAAALRzdHNk\n",
       "AAAAAAAAAAEAAACkYXZjMQAAAAAAAAABAAAAAAAAAAAAAAAAAAAAAAMYAJAASAAAAEgAAAAAAAAA\n",
       "AQAAAAAAAAAAAAAAAAAAAAAAAAAAAAAAAAAAAAAAAAAAABj//wAAADJhdmNDAWQAFf/hABlnZAAV\n",
       "rNlAyE+XhAAAAwAEAAADAKA8WLZYAQAGaOvjyyLAAAAAHHV1aWRraEDyXyRPxbo5pRvPAyPzAAAA\n",
       "AAAAABhzdHRzAAAAAAAAAAEAAADSAAACAAAAABRzdHNzAAAAAAAAAAEAAAABAAAGoGN0dHMAAAAA\n",
       "AAAA0gAAAAEAAAQAAAAAAQAACgAAAAABAAAEAAAAAAEAAAAAAAAAAQAAAgAAAAABAAAKAAAAAAEA\n",
       "AAQAAAAAAQAAAAAAAAABAAACAAAAAAEAAAoAAAAAAQAABAAAAAABAAAAAAAAAAEAAAIAAAAAAQAA\n",
       "CgAAAAABAAAEAAAAAAEAAAAAAAAAAQAAAgAAAAABAAAKAAAAAAEAAAQAAAAAAQAAAAAAAAABAAAC\n",
       "AAAAAAEAAAoAAAAAAQAABAAAAAABAAAAAAAAAAEAAAIAAAAAAQAACgAAAAABAAAEAAAAAAEAAAAA\n",
       "AAAAAQAAAgAAAAABAAAKAAAAAAEAAAQAAAAAAQAAAAAAAAABAAACAAAAAAEAAAoAAAAAAQAABAAA\n",
       "AAABAAAAAAAAAAEAAAIAAAAAAQAACgAAAAABAAAEAAAAAAEAAAAAAAAAAQAAAgAAAAABAAAKAAAA\n",
       "AAEAAAQAAAAAAQAAAAAAAAABAAACAAAAAAEAAAoAAAAAAQAABAAAAAABAAAAAAAAAAEAAAIAAAAA\n",
       "AQAACgAAAAABAAAEAAAAAAEAAAAAAAAAAQAAAgAAAAABAAAKAAAAAAEAAAQAAAAAAQAAAAAAAAAB\n",
       "AAACAAAAAAEAAAoAAAAAAQAABAAAAAABAAAAAAAAAAEAAAIAAAAAAQAACgAAAAABAAAEAAAAAAEA\n",
       "AAAAAAAAAQAAAgAAAAABAAAKAAAAAAEAAAQAAAAAAQAAAAAAAAABAAACAAAAAAEAAAoAAAAAAQAA\n",
       "BAAAAAABAAAAAAAAAAEAAAIAAAAAAQAACgAAAAABAAAEAAAAAAEAAAAAAAAAAQAAAgAAAAABAAAK\n",
       "AAAAAAEAAAQAAAAAAQAAAAAAAAABAAACAAAAAAEAAAoAAAAAAQAABAAAAAABAAAAAAAAAAEAAAIA\n",
       "AAAAAQAACgAAAAABAAAEAAAAAAEAAAAAAAAAAQAAAgAAAAABAAAKAAAAAAEAAAQAAAAAAQAAAAAA\n",
       "AAABAAACAAAAAAEAAAoAAAAAAQAABAAAAAABAAAAAAAAAAEAAAIAAAAAAQAACgAAAAABAAAEAAAA\n",
       "AAEAAAAAAAAAAQAAAgAAAAABAAAKAAAAAAEAAAQAAAAAAQAAAAAAAAABAAACAAAAAAEAAAoAAAAA\n",
       "AQAABAAAAAABAAAAAAAAAAEAAAIAAAAAAQAACgAAAAABAAAEAAAAAAEAAAAAAAAAAQAAAgAAAAAB\n",
       "AAAKAAAAAAEAAAQAAAAAAQAAAAAAAAABAAACAAAAAAEAAAoAAAAAAQAABAAAAAABAAAAAAAAAAEA\n",
       "AAIAAAAAAQAACgAAAAABAAAEAAAAAAEAAAAAAAAAAQAAAgAAAAABAAAKAAAAAAEAAAQAAAAAAQAA\n",
       "AAAAAAABAAACAAAAAAEAAAoAAAAAAQAABAAAAAABAAAAAAAAAAEAAAIAAAAAAQAACgAAAAABAAAE\n",
       "AAAAAAEAAAAAAAAAAQAAAgAAAAABAAAKAAAAAAEAAAQAAAAAAQAAAAAAAAABAAACAAAAAAEAAAoA\n",
       "AAAAAQAABAAAAAABAAAAAAAAAAEAAAIAAAAAAQAACgAAAAABAAAEAAAAAAEAAAAAAAAAAQAAAgAA\n",
       "AAABAAAKAAAAAAEAAAQAAAAAAQAAAAAAAAABAAACAAAAAAEAAAoAAAAAAQAABAAAAAABAAAAAAAA\n",
       "AAEAAAIAAAAAAQAACgAAAAABAAAEAAAAAAEAAAAAAAAAAQAAAgAAAAABAAAKAAAAAAEAAAQAAAAA\n",
       "AQAAAAAAAAABAAACAAAAAAEAAAoAAAAAAQAABAAAAAABAAAAAAAAAAEAAAIAAAAAAQAACgAAAAAB\n",
       "AAAEAAAAAAEAAAAAAAAAAQAAAgAAAAABAAAKAAAAAAEAAAQAAAAAAQAAAAAAAAABAAACAAAAAAEA\n",
       "AAoAAAAAAQAABAAAAAABAAAAAAAAAAEAAAIAAAAAAQAACgAAAAABAAAEAAAAAAEAAAAAAAAAAQAA\n",
       "AgAAAAABAAAKAAAAAAEAAAQAAAAAAQAAAAAAAAABAAACAAAAAAEAAAoAAAAAAQAABAAAAAABAAAA\n",
       "AAAAAAEAAAIAAAAAAQAACgAAAAABAAAEAAAAAAEAAAAAAAAAAQAAAgAAAAABAAAKAAAAAAEAAAQA\n",
       "AAAAAQAAAAAAAAABAAACAAAAAAEAAAoAAAAAAQAABAAAAAABAAAAAAAAAAEAAAIAAAAAAQAACgAA\n",
       "AAABAAAEAAAAAAEAAAAAAAAAAQAAAgAAAAABAAAEAAAAABxzdHNjAAAAAAAAAAEAAAABAAAA0gAA\n",
       "AAEAAANcc3RzegAAAAAAAAAAAAAA0gAADjcAAACoAAAALQAAAB0AAAAWAAAALAAAABcAAAATAAAA\n",
       "EQAAACIAAAATAAAAEQAAAA8AAAAYAAAAEwAAAA8AAAAPAAAAGAAAABMAAAAPAAAADwAAABgAAAAT\n",
       "AAAADwAAAA8AAAAYAAAAEwAAAA8AAAAPAAAAGAAAABMAAAAPAAAADwAAABgAAAATAAAADwAAAA8A\n",
       "AAAYAAAAEwAAAA8AAAAPAAAAGAAAABMAAAAPAAAADwAAABgAAAATAAAADwAAAA8AAAAYAAAAEwAA\n",
       "AA8AAAAPAAAAGAAAABMAAAAPAAAADwAAABgAAAATAAAADwAAAA8AAAAYAAAAEwAAAA8AAAAPAAAA\n",
       "GAAAABMAAAAPAAAADwAAABgAAAATAAAADwAAAA8AAAAYAAAAEwAAAA8AAAAPAAAAGAAAABMAAAAP\n",
       "AAAADwAAABgAAAATAAAADwAAAA8AAAAYAAAAEwAAAA8AAAAPAAAAGAAAABMAAAAPAAAADwAAABgA\n",
       "AAATAAAADwAAAA8AAAAYAAAAEwAAAA8AAAAPAAAAGAAAABMAAAAPAAAADwAAABgAAAATAAAADwAA\n",
       "AA8AAAAYAAAAEwAAAA8AAAAPAAAAGAAAABMAAAAPAAAADwAAABgAAAATAAAADwAAAA8AAAAYAAAA\n",
       "EwAAAA8AAAAPAAAAGAAAABMAAAAPAAAADwAAABgAAAATAAAADwAAAA8AAAAYAAAAEwAAAA8AAAAP\n",
       "AAAAGAAAABMAAAAPAAAADwAAABgAAAATAAAADwAAAA8AAAAYAAAAEwAAAA8AAAAPAAAAGAAAABMA\n",
       "AAAPAAAADwAAABgAAAATAAAADwAAAA8AAAAYAAAAEwAAAA8AAAAPAAAAGAAAABMAAAAPAAAADwAA\n",
       "ABgAAAATAAAADwAAAA8AAAAYAAAAEwAAAA8AAAAPAAAAGAAAABMAAAAPAAAADwAAABgAAAATAAAA\n",
       "DwAAAA8AAAAYAAAAEwAAAA8AAAAPAAAAGAAAABMAAAAPAAAADwAAABgAAAATAAAADwAAAA8AAAAY\n",
       "AAAAEwAAAA8AAAAPAAAAGAAAABMAAAAPAAAADwAAABgAAAATAAAADwAAAA8AAAAXAAAAEwAAAA8A\n",
       "AAAPAAAAFwAAABRzdGNvAAAAAAAAAAEAAAAsAAAAYnVkdGEAAABabWV0YQAAAAAAAAAhaGRscgAA\n",
       "AAAAAAAAbWRpcmFwcGwAAAAAAAAAAAAAAAAtaWxzdAAAACWpdG9vAAAAHWRhdGEAAAABAAAAAExh\n",
       "dmY1OC4xMC4xMDA=\n",
       "\">\n",
       "  Your browser does not support the video tag.\n",
       "</video>"
      ],
      "text/plain": [
       "<matplotlib.animation.FuncAnimation at 0x1de7800bf60>"
      ]
     },
     "execution_count": 111,
     "metadata": {},
     "output_type": "execute_result"
    }
   ],
   "source": [
    "fig, ax = plt.subplots(figsize=(11,2))\n",
    "ax.axes.set_xlim((-1, 21))\n",
    "ax.axes.set_ylim((-2, 2))\n",
    "\n",
    "circle1 = plt.Circle(agent1[\"position\"], agent1[\"radius\"], color='red')\n",
    "circle2 = plt.Circle(agent2[\"position\"], agent2[\"radius\"], color='blue')\n",
    "ax.add_artist(circle1)\n",
    "ax.add_artist(circle2)\n",
    "\n",
    "def animate(i):\n",
    "    \n",
    "    # Render\n",
    "    circle1.center = agent1[\"position\"]\n",
    "    circle2.center = agent2[\"position\"]\n",
    "    \n",
    "    if (rnd.random() < 0.5):\n",
    "\n",
    "        # Update velocities\n",
    "        v_pref1 = agent1[\"p_goal\"]-agent1[\"position\"]\n",
    "        v_pref1 *= (agent1[\"v_max\"]/length(v_pref1))\n",
    "        u1,n1 = velObst(agent1, agent2, 1)\n",
    "        G = 2.0*np.identity(2)\n",
    "        a = 2.0*v_pref1\n",
    "        C = np.reshape(n1, (1,2)).T\n",
    "        b = np.array([np.sum(n1*(agent1[\"vel\"] + 0.5*u1))])\n",
    "        agent1[\"vel\"] = quadprog.solve_qp(G, a, C, b)[0]\n",
    "\n",
    "        v_pref2 = agent2[\"p_goal\"]-agent2[\"position\"]\n",
    "        v_pref2 *= (agent2[\"v_max\"]/length(v_pref2))\n",
    "        u2,n2 = velObst(agent2, agent1, 1)\n",
    "        a = 2.0*v_pref2\n",
    "        C = np.reshape(n2, (1,2)).T\n",
    "        b = np.array([np.sum(n2*(agent2[\"vel\"] + 0.5*u2))])\n",
    "        agent2[\"vel\"] = quadprog.solve_qp(G, a, C, b)[0]\n",
    "    else:\n",
    "        G = 2.0*np.identity(2)\n",
    "        v_pref2 = agent2[\"p_goal\"]-agent2[\"position\"]\n",
    "        v_pref2 *= (agent2[\"v_max\"]/length(v_pref2))\n",
    "        u2,n2 = velObst(agent2, agent1, 1)\n",
    "        a = 2.0*v_pref2\n",
    "        C = np.reshape(n2, (1,2)).T\n",
    "        b = np.array([np.sum(n2*(agent2[\"vel\"] + 0.5*u2))])\n",
    "        agent2[\"vel\"] = quadprog.solve_qp(G, a, C, b)[0]\n",
    "        \n",
    "        # Update velocities\n",
    "        v_pref1 = agent1[\"p_goal\"]-agent1[\"position\"]\n",
    "        v_pref1 *= (agent1[\"v_max\"]/length(v_pref1))\n",
    "        u1,n1 = velObst(agent1, agent2, 1)\n",
    "        a = 2.0*v_pref1\n",
    "        C = np.reshape(n1, (1,2)).T\n",
    "        b = np.array([np.sum(n1*(agent1[\"vel\"] + 0.5*u1))])\n",
    "        agent1[\"vel\"] = quadprog.solve_qp(G, a, C, b)[0]\n",
    "\n",
    "        \n",
    "    # Update positions\n",
    "    t = i*dt\n",
    "    if (dist(circle1.center,agent1[\"p_goal\"]) <= agent1[\"v_max\"]*dt):\n",
    "        agent1[\"position\"] = agent1[\"p_goal\"]\n",
    "    else:\n",
    "        agent1[\"position\"] += dt*agent1[\"vel\"]\n",
    "    \n",
    "    if (dist(circle2.center,agent2[\"p_goal\"]) <= agent2[\"v_max\"]*dt):\n",
    "        agent2[\"position\"] = agent2[\"p_goal\"]\n",
    "    else:\n",
    "        agent2[\"position\"] += dt*agent2[\"vel\"]\n",
    "    \n",
    "    return circle1, circle2,\n",
    "\n",
    "ani = animation.FuncAnimation(fig, animate, np.arange(0, 210), interval=(dt*500), blit=True)\n",
    "ani.save('im.mp4')\n",
    "ani"
   ]
  },
  {
   "cell_type": "code",
   "execution_count": 80,
   "metadata": {
    "collapsed": true
   },
   "outputs": [],
   "source": [
    "def velObst(a1, a2, tau):\n",
    "    \n",
    "    p1 = a1[\"position\"]\n",
    "    p2 = a2[\"position\"]\n",
    "    c0 = (p2-p1)/tau\n",
    "    r0 = (a1[\"radius\"]+a2[\"radius\"])/tau\n",
    "    \n",
    "    c = length(c0)\n",
    "    alpha = np.arcsin(r0/c)\n",
    "    c_angle = np.arctan2(c0[1], c0[0])\n",
    "    dist_ = np.sqrt(c*c-r0*r0)\n",
    "    \n",
    "    k1 = np.tan(c_angle+alpha)\n",
    "    k2 = np.tan(c_angle-alpha)\n",
    "    \n",
    "    v_opt = a1[\"vel\"]-a2[\"vel\"]\n",
    "    \n",
    "    angle1 = c_angle+alpha\n",
    "    angle1 = np.arctan2(np.sin(angle1), np.cos(angle1))\n",
    "    angle2 = c_angle-alpha\n",
    "    angle2 = np.arctan2(np.sin(angle2), np.cos(angle2))\n",
    "    \n",
    "    d1 = float(\"inf\")\n",
    "    x1 = 0\n",
    "    y1 = 0\n",
    "    proj_l = v_opt[0]*np.cos(angle1) + v_opt[1]*np.sin(angle1)\n",
    "    if (proj_l > 0 and length(v_opt) > dist_):\n",
    "        x1 = proj_l*np.cos(angle1)\n",
    "        y1 = k1*x1\n",
    "        d1 = dist(v_opt,(x1,y1))\n",
    "    \n",
    "    d2 = float(\"inf\")\n",
    "    x2 = 0\n",
    "    y2 = 0\n",
    "    proj_l = v_opt[0]*np.cos(angle2) + v_opt[1]*np.sin(angle2)\n",
    "    if (proj_l > 0 and length(v_opt) > dist_):\n",
    "        x2 = proj_l*np.cos(angle2)\n",
    "        y2 = k2*x2\n",
    "        d2 = dist(v_opt,(x2,y2))\n",
    "    \n",
    "    # Tangents to the circle\n",
    "    k = (c0[1]-v_opt[1])/(c0[0]-v_opt[0])\n",
    "    b = v_opt[1] - v_opt[0]*k\n",
    "    a = 1+k*k\n",
    "    eq_b = -2*c0[0]+2*k*b-2*k*c0[1]\n",
    "    c = c0[0]*c0[0] + b*b + c0[1]*c0[1] - 2*b*c0[1] - r0*r0\n",
    "    \n",
    "    d_sqrt = np.sqrt(eq_b*eq_b - 4*a*c)\n",
    "    x_sol1 = (-eq_b-d_sqrt)/(2*a)\n",
    "    x_sol2 = (-eq_b+d_sqrt)/(2*a)\n",
    "    y_sol1 = k*x_sol1+b\n",
    "    y_sol2 = k*x_sol2+b\n",
    "    \n",
    "    d5 = float(\"inf\")\n",
    "    x5 = 0\n",
    "    y5 = 0\n",
    "    if (length((x_sol1,y_sol1)) < dist_):\n",
    "        x5 = x_sol1\n",
    "        y5 = y_sol1\n",
    "        d5 = dist(v_opt,(x5,y5))\n",
    "        \n",
    "    d6 = float(\"inf\")\n",
    "    x6 = 0\n",
    "    y6 = 0\n",
    "    if (length((x_sol2,y_sol2)) < dist_):\n",
    "        x6 = x_sol2\n",
    "        y6 = y_sol2\n",
    "        d6 = dist(v_opt,(x6,y6))\n",
    "    \n",
    "    # Find closest point\n",
    "    u = None\n",
    "    if (d1 <= d2 and d1 <= d5 and d1 <= d6):\n",
    "        u = np.array([x1,y1]) - v_opt\n",
    "    elif (d2 <= d1 and d2 <= d5 and d2 <= d6):\n",
    "        u = np.array([x2,y2]) - v_opt\n",
    "    elif (d5 <= d1 and d5 <= d2 and d5 <= d6):\n",
    "        u = np.array([x5,y5]) - v_opt\n",
    "    else:\n",
    "        u = np.array([x6,y6]) - v_opt\n",
    "    \n",
    "    opt_in_obs = False\n",
    "    opt_angle = np.arctan2(v_opt[1],v_opt[0])\n",
    "    if (opt_angle > np.min((angle1, angle2)) and opt_angle < np.max((angle1, angle2))):\n",
    "        if (length(v_opt) > dist_ or dist(v_opt, c0) < r0):\n",
    "            opt_in_obs = True\n",
    "    \n",
    "    n = copy.deepcopy(u)\n",
    "    if (not opt_in_obs):\n",
    "        n = -n\n",
    "    n /= length(n)\n",
    "    \n",
    "    return u, n"
   ]
  },
  {
   "cell_type": "code",
   "execution_count": 6,
   "metadata": {
    "collapsed": true
   },
   "outputs": [],
   "source": [
    "def dist(p1,p2):\n",
    "    return np.sqrt((p1[0]-p2[0])**2 + (p1[1]-p2[1])**2)\n",
    "def length(p):\n",
    "    return np.sqrt(p[0]*p[0] + p[1]*p[1])"
   ]
  },
  {
   "cell_type": "code",
   "execution_count": null,
   "metadata": {
    "collapsed": true
   },
   "outputs": [],
   "source": []
  },
  {
   "cell_type": "code",
   "execution_count": null,
   "metadata": {
    "collapsed": true
   },
   "outputs": [],
   "source": []
  },
  {
   "cell_type": "markdown",
   "metadata": {},
   "source": [
    "#### Debugging"
   ]
  },
  {
   "cell_type": "code",
   "execution_count": 55,
   "metadata": {
    "collapsed": true
   },
   "outputs": [],
   "source": [
    "### TEST\n",
    "tau = 1.0\n",
    "agent1 = { \"position\": np.array([0.0,0.0]),\n",
    "          \"vel\": np.array([4.5,1.5]),\n",
    "          \"radius\": 0.5\n",
    "    }\n",
    "agent2 = { \"position\": np.array([2.0,2.0]),\n",
    "          \"vel\": np.array([0.0,0.0]),\n",
    "          \"radius\": 0.5\n",
    "    }"
   ]
  },
  {
   "cell_type": "code",
   "execution_count": 56,
   "metadata": {},
   "outputs": [
    {
     "name": "stdout",
     "output_type": "stream",
     "text": [
      "c_angle: 0.785398163397\n",
      "dist_: 2.64575131106\n",
      "k1: 2.21525043702, k2: 0.451416229645\n",
      "angle1: 1.1467652873, angle2: 0.424031039491\n",
      "proj1_l: 3.2186269666\n",
      "x1: 1.32426488753', y1: 2.93357837082\n",
      "3.4843134833\n",
      "proj2_l: 4.7186269666\n",
      "x2: 4.30073511247', y2: 1.94142162918\n",
      "0.484313483298\n",
      "-1\n"
     ]
    },
    {
     "data": {
      "text/plain": [
       "(array([-0.19926489,  0.44142163]), array([ 0.41143783, -0.91143783]))"
      ]
     },
     "execution_count": 56,
     "metadata": {},
     "output_type": "execute_result"
    }
   ],
   "source": [
    "velObst(agent1, agent2, tau)"
   ]
  },
  {
   "cell_type": "code",
   "execution_count": 88,
   "metadata": {
    "collapsed": true
   },
   "outputs": [],
   "source": [
    "tau = 1\n",
    "agent1 = { \"position\": np.array([0.0,0.0]),\n",
    "          \"p_goal\": np.array([20.0, 0.0]),\n",
    "          \"vel\": np.array([1.1,0.0]),\n",
    "          \"radius\": 0.5,\n",
    "          \"v_max\": 1.1\n",
    "    }\n",
    "agent2 = { \"position\": np.array([20.0,0.0]),\n",
    "          \"p_goal\": np.array([0.0, 0.0]),\n",
    "          \"vel\": np.array([-1.1,0.0]),\n",
    "          \"radius\": 0.5,\n",
    "          \"v_max\": 1.1\n",
    "    }"
   ]
  },
  {
   "cell_type": "code",
   "execution_count": 91,
   "metadata": {},
   "outputs": [
    {
     "data": {
      "text/plain": [
       "(array([ 16.8,   0. ]), array([-1., -0.]))"
      ]
     },
     "execution_count": 91,
     "metadata": {},
     "output_type": "execute_result"
    }
   ],
   "source": [
    "velObst(agent1, agent2, tau)"
   ]
  },
  {
   "cell_type": "code",
   "execution_count": 92,
   "metadata": {},
   "outputs": [
    {
     "data": {
      "text/plain": [
       "array([ 9.5,  0. ])"
      ]
     },
     "execution_count": 92,
     "metadata": {},
     "output_type": "execute_result"
    }
   ],
   "source": [
    "u,n = velObst(agent1, agent2, tau)\n",
    "agent1[\"vel\"] + 0.5*u"
   ]
  },
  {
   "cell_type": "code",
   "execution_count": 100,
   "metadata": {},
   "outputs": [
    {
     "name": "stdout",
     "output_type": "stream",
     "text": [
      "[ 1.1  0. ]\n"
     ]
    }
   ],
   "source": [
    "G = 2.0*np.identity(2)\n",
    "v_pref = agent1[\"p_goal\"]-agent1[\"position\"]\n",
    "v_pref *= (agent1[\"v_max\"]/length(v_pref))\n",
    "print(v_pref)"
   ]
  },
  {
   "cell_type": "code",
   "execution_count": 101,
   "metadata": {},
   "outputs": [],
   "source": [
    "a = 2.0*v_pref\n",
    "C = np.reshape(n, (1,2)).T\n",
    "b = np.array([np.sum(n*(agent1[\"vel\"] + 0.5*u))])"
   ]
  },
  {
   "cell_type": "code",
   "execution_count": 102,
   "metadata": {},
   "outputs": [
    {
     "data": {
      "text/plain": [
       "array([ 1.1,  0. ])"
      ]
     },
     "execution_count": 102,
     "metadata": {},
     "output_type": "execute_result"
    }
   ],
   "source": [
    "quadprog.solve_qp(G, a, C, b)[0]"
   ]
  },
  {
   "cell_type": "code",
   "execution_count": 143,
   "metadata": {},
   "outputs": [
    {
     "data": {
      "text/plain": [
       "array([  1.87790001e+02,  -9.49441333e-02])"
      ]
     },
     "execution_count": 143,
     "metadata": {},
     "output_type": "execute_result"
    }
   ],
   "source": [
    "u1,n1 = velObst(agent1, agent2, dt)\n",
    "u1"
   ]
  },
  {
   "cell_type": "code",
   "execution_count": 31,
   "metadata": {},
   "outputs": [
    {
     "data": {
      "text/plain": [
       "array([ 0.,  0.])"
      ]
     },
     "execution_count": 31,
     "metadata": {},
     "output_type": "execute_result"
    }
   ],
   "source": [
    "v_pref1 = agent1[\"p_goal\"]-agent1[\"position\"]\n",
    "v_pref1 *= (agent1[\"v_max\"]/length(v_pref1))\n",
    "u1,n1 = velObst(agent1, agent2, dt)\n",
    "    \n",
    "G = np.reshape([[2.0,0.0],[0.0,2.0]], (2,2))\n",
    "a = -2.0*v_pref1\n",
    "C = np.reshape(n1, (1,2)).T\n",
    "b = np.array([np.sum(n1*(agent1[\"vel\"] + 0.5*u1))])\n",
    "quadprog.solve_qp(G, a, C, b)[0]"
   ]
  }
 ],
 "metadata": {
  "kernelspec": {
   "display_name": "Python 3",
   "language": "python",
   "name": "python3"
  },
  "language_info": {
   "codemirror_mode": {
    "name": "ipython",
    "version": 3
   },
   "file_extension": ".py",
   "mimetype": "text/x-python",
   "name": "python",
   "nbconvert_exporter": "python",
   "pygments_lexer": "ipython3",
   "version": "3.6.2"
  }
 },
 "nbformat": 4,
 "nbformat_minor": 2
}
