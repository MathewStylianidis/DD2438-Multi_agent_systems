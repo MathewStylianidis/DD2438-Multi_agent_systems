{
 "cells": [
  {
   "cell_type": "code",
   "execution_count": 1,
   "metadata": {
    "collapsed": true
   },
   "outputs": [],
   "source": [
    "import numpy as np\n",
    "import random as rnd\n",
    "import matplotlib.pyplot as plt\n",
    "import math\n",
    "import copy\n",
    "import quadprog\n",
    "from matplotlib import animation\n",
    "import json\n",
    "from pprint import pprint\n",
    "plt.rc('animation', html='html5')"
   ]
  },
  {
   "cell_type": "markdown",
   "metadata": {},
   "source": [
    "#### Initialization"
   ]
  },
  {
   "cell_type": "code",
   "execution_count": 24,
   "metadata": {
    "collapsed": true
   },
   "outputs": [],
   "source": [
    "data = json.load(open('P21.json'))\n",
    "dt = 0.01 #data[\"vehicle_dt\"]\n",
    "agents = []\n",
    "for i in range(len(data[\"start_positions\"])):\n",
    "    newEntry = { \"position\": np.array(data[\"start_positions\"][i]),\n",
    "        \"p_goal\": np.array(data[\"goal_positions\"][i]),\n",
    "        \"vel\": np.array([0.0, 0.0]),\n",
    "        \"radius\": 0.5,\n",
    "        \"v_max\": data[\"vehicle_v_max\"]\n",
    "    }\n",
    "    #newEntry[\"position\"] += np.random.normal(loc=0.0, scale=0.001, size=2)\n",
    "    agents.append(newEntry)\n",
    "tau = 0.01"
   ]
  },
  {
   "cell_type": "markdown",
   "metadata": {},
   "source": [
    "#### Animation"
   ]
  },
  {
   "cell_type": "code",
   "execution_count": 25,
   "metadata": {
    "scrolled": false
   },
   "outputs": [
    {
     "name": "stderr",
     "output_type": "stream",
     "text": [
      "C:\\Users\\d1mas\\Anaconda3\\lib\\site-packages\\ipykernel_launcher.py:90: RuntimeWarning: invalid value encountered in true_divide\n"
     ]
    },
    {
     "name": "stdout",
     "output_type": "stream",
     "text": [
      "Finished: 33.96000000000181\n"
     ]
    }
   ],
   "source": [
    "fig, ax = plt.subplots(figsize=(5,5))\n",
    "ax.axes.set_xlim((5, 35))\n",
    "ax.axes.set_ylim((10, 40))\n",
    "\n",
    "circles = []\n",
    "for agent in agents:\n",
    "    newEntry = plt.Circle(agent[\"position\"], agent[\"radius\"], color='blue') #\n",
    "    ax.add_artist(newEntry)\n",
    "    circles.append(newEntry)\n",
    "\n",
    "G = 2.0*np.identity(2)\n",
    "G_new = 0.000001*np.identity(3)\n",
    "G_new[2][2] = 1.0\n",
    "\n",
    "b = np.zeros(len(agents)+7)\n",
    "C = np.zeros((len(agents)+7,2))\n",
    "# Adding circular constraints\n",
    "C[-1] = np.array([-1.0, -1.0])\n",
    "C[-2] = np.array([-1.0, 1.0])\n",
    "C[-3] = np.array([1.0, -1.0])\n",
    "C[-4] = np.array([1.0, 1.0])\n",
    "b[-1] = -1.4*data[\"vehicle_v_max\"]\n",
    "b[-2] = -1.4*data[\"vehicle_v_max\"]\n",
    "b[-3] = -1.4*data[\"vehicle_v_max\"]\n",
    "b[-4] = -1.4*data[\"vehicle_v_max\"]\n",
    "C[-5] = np.array([-1.0, 0.0])\n",
    "C[-6] = np.array([1.0, 0.0])\n",
    "C[-7] = np.array([0.0, -1.0])\n",
    "C[-8] = np.array([0.0, 1.0])\n",
    "b[-5] = -0.98*data[\"vehicle_v_max\"]\n",
    "b[-6] = -0.98*data[\"vehicle_v_max\"]\n",
    "b[-7] = -0.98*data[\"vehicle_v_max\"]\n",
    "b[-8] = -0.98*data[\"vehicle_v_max\"]\n",
    "\n",
    "totalTime = { \"val\": 0.0 }\n",
    "\n",
    "order = np.arange(len(agents))\n",
    "#order = np.full(len(agents), 1)\n",
    "#for i in range(len(order)):\n",
    "#    order[i] = len(order)-i-1\n",
    "\n",
    "#order = np.full(len(agents), 1)\n",
    "#order1 = np.full(int(np.ceil(len(agents)/2.0)), 1)\n",
    "#order2 = np.full(len(agents)-len(order1), 1)\n",
    "#counter1 = 0\n",
    "#counter2 = 0\n",
    "#for i in range(len(agents)):\n",
    "#    if (i%2 == 0):\n",
    "#        order1[counter1] = i\n",
    "#        counter1 += 1\n",
    "#    else:\n",
    "#        order2[counter2] = i\n",
    "#        counter2 += 1\n",
    "#np.random.shuffle(order1)\n",
    "#np.random.shuffle(order2)\n",
    "#order[:len(order1)] = order1\n",
    "#order[len(order1):] = order2\n",
    "\n",
    "\n",
    "fin_flag = {\"val\":False}\n",
    "\n",
    "def animate(i):\n",
    "    \n",
    "    np.random.shuffle(order)\n",
    "    #np.random.shuffle(order2)\n",
    "    #order[:len(order1)] = order1\n",
    "    #order[len(order1):] = order2\n",
    "    \n",
    "    finished = True\n",
    "    for i in order:\n",
    "        agent = agents[i]\n",
    "        if (dist(agent[\"position\"], agent[\"p_goal\"]) > agent[\"v_max\"]*dt): #or length(agent[\"vel\"]) > 0.0001):\n",
    "            finished = False\n",
    "        if (dist(agent[\"position\"], agent[\"p_goal\"]) < 0.001):\n",
    "            continue\n",
    "        \n",
    "        # Render\n",
    "        newPos = agent[\"position\"] + dt*agent[\"vel\"]\n",
    "        collide = False\n",
    "        for j in range(len(agents)):\n",
    "            if (j == i):\n",
    "                continue\n",
    "            distance = dist(newPos, agents[j][\"position\"])\n",
    "            if (distance < (agent[\"radius\"]+agents[j][\"radius\"])):\n",
    "                collide = True\n",
    "                break\n",
    "        if (not collide):\n",
    "            agent[\"position\"] = newPos\n",
    "        #else:\n",
    "        #    agent[\"vel\"] = np.array([0.0, 0.0])\n",
    "        circles[i].center = agent[\"position\"]\n",
    "        \n",
    "        #if (dist(agent[\"position\"], agent[\"p_goal\"]) < 0.001): #or length(agent[\"vel\"]) > 0.0001):\n",
    "        #    continue\n",
    "    \n",
    "    if (finished):\n",
    "        if (not fin_flag[\"val\"]):\n",
    "            print(\"Finished: \" + str(totalTime[\"val\"]))\n",
    "        fin_flag[\"val\"] = True\n",
    "        return circles\n",
    "    \n",
    "    for i in order:\n",
    "        agent = agents[i]\n",
    "    \n",
    "        # Update velocity\n",
    "        v_pref = agent[\"p_goal\"]-agent[\"position\"]\n",
    "        if (dist(agent[\"position\"],agent[\"p_goal\"]) <= agent[\"v_max\"]*dt):\n",
    "            v_pref /= dt\n",
    "        else:\n",
    "            v_pref *= (agent[\"v_max\"]/length(v_pref))\n",
    "        a = 2.0*v_pref\n",
    "        \n",
    "        counter = 0\n",
    "        for j in range(len(agents)):\n",
    "            if (j == i):\n",
    "                continue\n",
    "            goalReached = False\n",
    "            if (dist(agents[j][\"position\"], agents[j][\"p_goal\"]) <= 0.001 and length(agents[j][\"vel\"]) <= 0.001):\n",
    "                goalReached = True\n",
    "            \n",
    "            #if (goalReached):\n",
    "            #    u,n = velObst(agent, agents[j], 0.1)\n",
    "            #else:\n",
    "            u,n = velObst(agent, agents[j], tau)\n",
    "            C[counter] = n\n",
    "            if (goalReached):\n",
    "                b[counter] = np.sum(n*(agent[\"vel\"] + u))\n",
    "            else:\n",
    "                b[counter] = np.sum(n*(agent[\"vel\"] + 0.5*u))\n",
    "            counter += 1\n",
    "        \n",
    "        try:\n",
    "            newVel = quadprog.solve_qp(G, a, C.T, b)[0]\n",
    "        except ValueError:\n",
    "            # Solve another linear program\n",
    "            C_new = np.zeros((C.shape[0], C.shape[1]+1))\n",
    "            C_new[:,:-1] = C\n",
    "            for j in range(C.shape[0]-8):\n",
    "                C_new[j][2] = 1.0\n",
    "            newVel = quadprog.solve_qp(G_new, np.zeros(3), C_new.T, b)[0][:-1]\n",
    "            \n",
    "        agent[\"vel\"] = newVel\n",
    "        #agent[\"position\"] += dt*agent[\"vel\"]\n",
    "        \n",
    "    #for i in order:\n",
    "    #    agents[i][\"position\"] += dt*agents[i][\"vel\"]\n",
    "    \n",
    "    totalTime[\"val\"] += dt\n",
    "    \n",
    "    return circles\n",
    "\n",
    "ani = animation.FuncAnimation(fig, animate, np.arange(0, 3700), interval=(dt*500), blit=True)\n",
    "ani.save('video10.mp4')"
   ]
  },
  {
   "cell_type": "code",
   "execution_count": 71,
   "metadata": {},
   "outputs": [
    {
     "data": {
      "text/plain": [
       "28.793333333334267"
      ]
     },
     "execution_count": 71,
     "metadata": {},
     "output_type": "execute_result"
    }
   ],
   "source": [
    "37.020000000001204*14/18"
   ]
  },
  {
   "cell_type": "code",
   "execution_count": 11,
   "metadata": {
    "collapsed": true
   },
   "outputs": [],
   "source": [
    "def velObst(a1, a2, tau):\n",
    "    \n",
    "    p1 = a1[\"position\"]\n",
    "    p2 = a2[\"position\"]\n",
    "    c0 = (p2-p1)/tau\n",
    "    r0 = (a1[\"radius\"]+a2[\"radius\"])/tau\n",
    "    \n",
    "    c = length(c0)\n",
    "    alpha = np.arcsin(r0/c)\n",
    "    c_angle = np.arctan2(c0[1], c0[0])\n",
    "    dist_ = np.sqrt(c*c-r0*r0)\n",
    "    \n",
    "    k1 = np.tan(c_angle+alpha)\n",
    "    k2 = np.tan(c_angle-alpha)\n",
    "    \n",
    "    v_opt = a1[\"vel\"]-a2[\"vel\"]\n",
    "    \n",
    "    angle1 = c_angle+alpha\n",
    "    angle1 = np.arctan2(np.sin(angle1), np.cos(angle1))\n",
    "    angle2 = c_angle-alpha\n",
    "    angle2 = np.arctan2(np.sin(angle2), np.cos(angle2))\n",
    "    \n",
    "    d1 = float(\"inf\")\n",
    "    x1 = 0\n",
    "    y1 = 0\n",
    "    proj_l = v_opt[0]*np.cos(angle1) + v_opt[1]*np.sin(angle1)\n",
    "    if (proj_l > 0 and length(v_opt) > dist_):\n",
    "        x1 = proj_l*np.cos(angle1)\n",
    "        y1 = k1*x1\n",
    "        d1 = dist(v_opt,(x1,y1))\n",
    "    \n",
    "    d2 = float(\"inf\")\n",
    "    x2 = 0\n",
    "    y2 = 0\n",
    "    proj_l = v_opt[0]*np.cos(angle2) + v_opt[1]*np.sin(angle2)\n",
    "    if (proj_l > 0 and length(v_opt) > dist_):\n",
    "        x2 = proj_l*np.cos(angle2)\n",
    "        y2 = k2*x2\n",
    "        d2 = dist(v_opt,(x2,y2))\n",
    "    \n",
    "    # Tangents to the circle\n",
    "    k = (c0[1]-v_opt[1])/(c0[0]-v_opt[0])\n",
    "    b = v_opt[1] - v_opt[0]*k\n",
    "    a = 1+k*k\n",
    "    eq_b = -2*c0[0]+2*k*b-2*k*c0[1]\n",
    "    c = c0[0]*c0[0] + b*b + c0[1]*c0[1] - 2*b*c0[1] - r0*r0\n",
    "    \n",
    "    d_sqrt = np.sqrt(eq_b*eq_b - 4*a*c)\n",
    "    x_sol1 = (-eq_b-d_sqrt)/(2*a)\n",
    "    x_sol2 = (-eq_b+d_sqrt)/(2*a)\n",
    "    y_sol1 = k*x_sol1+b\n",
    "    y_sol2 = k*x_sol2+b\n",
    "    \n",
    "    d5 = float(\"inf\")\n",
    "    x5 = 0\n",
    "    y5 = 0\n",
    "    if (length((x_sol1,y_sol1)) < dist_):\n",
    "        x5 = x_sol1\n",
    "        y5 = y_sol1\n",
    "        d5 = dist(v_opt,(x5,y5))\n",
    "        \n",
    "    d6 = float(\"inf\")\n",
    "    x6 = 0\n",
    "    y6 = 0\n",
    "    if (length((x_sol2,y_sol2)) < dist_):\n",
    "        x6 = x_sol2\n",
    "        y6 = y_sol2\n",
    "        d6 = dist(v_opt,(x6,y6))\n",
    "    \n",
    "    # Find closest point\n",
    "    u = None\n",
    "    if (d1 <= d2 and d1 <= d5 and d1 <= d6):\n",
    "        u = np.array([x1,y1]) - v_opt\n",
    "    elif (d2 <= d1 and d2 <= d5 and d2 <= d6):\n",
    "        u = np.array([x2,y2]) - v_opt\n",
    "    elif (d5 <= d1 and d5 <= d2 and d5 <= d6):\n",
    "        u = np.array([x5,y5]) - v_opt\n",
    "    else:\n",
    "        u = np.array([x6,y6]) - v_opt\n",
    "    \n",
    "    opt_in_obs = False\n",
    "    opt_angle = np.arctan2(v_opt[1],v_opt[0])\n",
    "    if (opt_angle > np.min((angle1, angle2)) and opt_angle < np.max((angle1, angle2))):\n",
    "        if (length(v_opt) > dist_ or dist(v_opt, c0) < r0):\n",
    "            opt_in_obs = True\n",
    "    \n",
    "    n = copy.deepcopy(u)\n",
    "    if (not opt_in_obs):\n",
    "        n = -n\n",
    "    n /= length(n)\n",
    "    \n",
    "    return u, n"
   ]
  },
  {
   "cell_type": "code",
   "execution_count": 10,
   "metadata": {
    "collapsed": true
   },
   "outputs": [],
   "source": [
    "def dist(p1,p2):\n",
    "    return np.sqrt((p1[0]-p2[0])**2 + (p1[1]-p2[1])**2)\n",
    "def length(p):\n",
    "    return np.sqrt(p[0]*p[0] + p[1]*p[1])"
   ]
  },
  {
   "cell_type": "code",
   "execution_count": null,
   "metadata": {
    "collapsed": true
   },
   "outputs": [],
   "source": []
  },
  {
   "cell_type": "code",
   "execution_count": null,
   "metadata": {
    "collapsed": true
   },
   "outputs": [],
   "source": []
  },
  {
   "cell_type": "markdown",
   "metadata": {},
   "source": [
    "#### Debugging"
   ]
  },
  {
   "cell_type": "code",
   "execution_count": 55,
   "metadata": {
    "collapsed": true
   },
   "outputs": [],
   "source": [
    "### TEST\n",
    "tau = 1.0\n",
    "agent1 = { \"position\": np.array([0.0,0.0]),\n",
    "          \"vel\": np.array([4.5,1.5]),\n",
    "          \"radius\": 0.5\n",
    "    }\n",
    "agent2 = { \"position\": np.array([2.0,2.0]),\n",
    "          \"vel\": np.array([0.0,0.0]),\n",
    "          \"radius\": 0.5\n",
    "    }"
   ]
  }
 ],
 "metadata": {
  "kernelspec": {
   "display_name": "Python 3",
   "language": "python",
   "name": "python3"
  },
  "language_info": {
   "codemirror_mode": {
    "name": "ipython",
    "version": 3
   },
   "file_extension": ".py",
   "mimetype": "text/x-python",
   "name": "python",
   "nbconvert_exporter": "python",
   "pygments_lexer": "ipython3",
   "version": "3.6.2"
  }
 },
 "nbformat": 4,
 "nbformat_minor": 2
}
